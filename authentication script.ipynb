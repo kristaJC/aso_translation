{
 "cells": [
  {
   "cell_type": "code",
   "execution_count": 0,
   "metadata": {
    "application/vnd.databricks.v1+cell": {
     "cellMetadata": {},
     "inputWidgets": {},
     "nuid": "02928e31-1164-4a18-9402-a1e8beaa33e4",
     "showTitle": false,
     "tableResultSettingsMap": {},
     "title": ""
    }
   },
   "outputs": [],
   "source": [
    "def get_secret_keys():\n",
    "\n",
    "    \"\"\"\n",
    "    Get the secret open ai api keys for the current user.\n",
    "    \"\"\"\n",
    "\n",
    "    try:\n",
    "        current_user = dbutils.notebook.entry_point.getDbutils().notebook().getContext().userName().get().split(\"@\")[0]\n",
    "        scope_name = f'openai-{current_user}'\n",
    "        api_user_key = dbutils.secrets.get(scope = scope_name, key = \"token\")\n",
    "    except Exception as e:\n",
    "        raise Exception(str(e))\n",
    "\n",
    "    try:\n",
    "        dbutils.secrets.list(scope = \"openai\")\n",
    "        org_key = dbutils.secrets.get(scope = \"openai\", key = \"token_org\")\n",
    "        return (current_user, api_user_key, org_key)\n",
    "    except Exception as e:\n",
    "        raise Exception(str(e))\n"
   ]
  },
  {
   "cell_type": "code",
   "execution_count": 0,
   "metadata": {
    "application/vnd.databricks.v1+cell": {
     "cellMetadata": {},
     "inputWidgets": {},
     "nuid": "9cd1a632-0b0d-4dac-a9b6-7f6dd4621934",
     "showTitle": false,
     "tableResultSettingsMap": {},
     "title": ""
    }
   },
   "outputs": [],
   "source": [
    "CURRENT_USER, PROJECT_API_KEY, ORGANIZATION_API_KEY = get_secret_keys()\n",
    "\n",
    "\n",
    "client = OpenAI(\n",
    "    api_key=PROJECT_API_KEY,\n",
    "    organization=ORGANIZATION_API_KEY\n",
    ")"
   ]
  }
 ],
 "metadata": {
  "application/vnd.databricks.v1+notebook": {
   "computePreferences": null,
   "dashboards": [],
   "environmentMetadata": {
    "base_environment": "",
    "environment_version": "2"
   },
   "inputWidgetPreferences": null,
   "language": "python",
   "notebookMetadata": {
    "pythonIndentUnit": 4
   },
   "notebookName": "authentication script",
   "widgets": {}
  },
  "language_info": {
   "name": "python"
  }
 },
 "nbformat": 4,
 "nbformat_minor": 0
}
